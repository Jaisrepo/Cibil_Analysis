{
 "cells": [
  {
   "cell_type": "code",
   "execution_count": 1,
   "id": "270c22c7",
   "metadata": {},
   "outputs": [],
   "source": [
    "import re\n",
    "import numpy as np\n",
    "import pandas as pd"
   ]
  },
  {
   "cell_type": "code",
   "execution_count": 2,
   "id": "b36d752e",
   "metadata": {},
   "outputs": [],
   "source": [
    "file_path = r'C:\\Users\\username\\Desktop\\iPynb\\Resorce\\base_None'\n",
    "\n",
    "with open(file_path, 'r') as file:\n",
    "    base_text = file.read()\n",
    "\n",
    "# Remove extra line spaces\n",
    "cleaned_text = re.sub(r'\\n\\s*\\n', '\\n\\n', base_text)  # Replace multiple newlines with a single newline\n",
    "cleaned_text = re.sub(r'\\n+', '\\n', cleaned_text)     # Replace multiple newlines with a single newline\n",
    "cleaned_text = cleaned_text.replace('â‚¹', '')"
   ]
  },
  {
   "cell_type": "code",
   "execution_count": 3,
   "id": "b2e4606c",
   "metadata": {},
   "outputs": [
    {
     "name": "stdout",
     "output_type": "stream",
     "text": [
      "NONE!\n"
     ]
    }
   ],
   "source": [
    "print(base_text)"
   ]
  },
  {
   "cell_type": "code",
   "execution_count": 4,
   "id": "a517ceb5",
   "metadata": {},
   "outputs": [
    {
     "name": "stdout",
     "output_type": "stream",
     "text": [
      "NONE!\n"
     ]
    }
   ],
   "source": [
    "print(cleaned_text)"
   ]
  },
  {
   "cell_type": "code",
   "execution_count": 5,
   "id": "7a2d1577",
   "metadata": {},
   "outputs": [
    {
     "name": "stdout",
     "output_type": "stream",
     "text": [
      "PERSONAL DETAILS section not found.\n"
     ]
    }
   ],
   "source": [
    "# Extract the PERSONAL DETAILS section\n",
    "personal_details_pattern = re.compile(r'PERSONAL DETAILS\\s*(.*?)\\s*IDENTIFICATION DETAILS', re.DOTALL)\n",
    "personal_details_match = personal_details_pattern.search(cleaned_text)\n",
    "\n",
    "personal_details_list = []\n",
    "\n",
    "if personal_details_match:\n",
    "    personal_details_text = personal_details_match.group(1).strip()\n",
    "\n",
    "    # Split the section into lines\n",
    "    lines = personal_details_text.split('\\n')\n",
    "\n",
    "    # Iterate through the lines and extract key-value pairs\n",
    "    for i in range(0, len(lines), 2):\n",
    "        key = lines[i].strip()\n",
    "        value = lines[i+1].strip() if (i+1) < len(lines) else ''\n",
    "        personal_details_list.append({\n",
    "            'Key': key,\n",
    "            'Value': value\n",
    "        })\n",
    "\n",
    "    # Print the formatted list of dictionaries to verify\n",
    "    print(\"Formatted Personal Details:\")\n",
    "    print(personal_details_list)\n",
    "else:\n",
    "    print(\"PERSONAL DETAILS section not found.\")"
   ]
  },
  {
   "cell_type": "code",
   "execution_count": 6,
   "id": "aa82b791",
   "metadata": {},
   "outputs": [
    {
     "name": "stdout",
     "output_type": "stream",
     "text": [
      "IDENTIFICATION DETAILS section not found.\n"
     ]
    }
   ],
   "source": [
    "# Extract the IDENTIFICATION DETAILS section\n",
    "identification_details_pattern = re.compile(r'IDENTIFICATION DETAILS\\s*(.*?)\\s*ADDRESS DETAILS', re.DOTALL)\n",
    "identification_details_match = identification_details_pattern.search(cleaned_text)\n",
    "\n",
    "identification_details_list = []\n",
    "\n",
    "if identification_details_match:\n",
    "    identification_details_text = identification_details_match.group(1).strip()\n",
    "#     print(\"Captured IDENTIFICATION DETAILS section:\")\n",
    "#     print(identification_details_text)\n",
    "    \n",
    "    # Find all entries in the section\n",
    "    entry_pattern = re.compile( r'Identification Type\\s*(.*?)\\nID Number\\s*(.*?)\\nIssue Date\\s*(.*?)\\nExpiry Date\\s*(--)', re.DOTALL)\n",
    "    entries = entry_pattern.findall(identification_details_text)\n",
    "    \n",
    "#     print(\"\\nEntries found:\")\n",
    "#     for entry in entries:\n",
    "#         print(entry)\n",
    "    \n",
    "    for entry in entries:\n",
    "        entry_dict = {\n",
    "            'Identification Type': entry[0].strip(),\n",
    "            'ID Number': entry[1].strip(),\n",
    "            'Issue Date': entry[2].strip(),\n",
    "            'Expiry Date': entry[3].strip()\n",
    "        }\n",
    "        identification_details_list.append(entry_dict)\n",
    "    \n",
    "#     print(\"\\nFinal output:\")\n",
    "    print(identification_details_list)\n",
    "else:\n",
    "    print(\"IDENTIFICATION DETAILS section not found.\")"
   ]
  },
  {
   "cell_type": "code",
   "execution_count": 7,
   "id": "e4389aee",
   "metadata": {},
   "outputs": [
    {
     "name": "stdout",
     "output_type": "stream",
     "text": [
      "ADDRESS DETAILS section not found.\n"
     ]
    }
   ],
   "source": [
    "# Extract the Address DETAILS section\n",
    "address_details_pattern = re.compile(r'ADDRESS DETAILS\\s*(.*?)\\s*(CONTACT DETAILS)', re.DOTALL)\n",
    "address_details_match = address_details_pattern.search(cleaned_text)\n",
    "\n",
    "address_details_list = []\n",
    "\n",
    "if address_details_match:\n",
    "    address_details_text = address_details_match.group(1).strip()\n",
    "#     print(\"Captured address DETAILS section:\")\n",
    "#     print(address_details_text)\n",
    "    \n",
    "    # Find all entries in the section\n",
    "    entry_pattern = re.compile(r'Address\\s*(.*?)\\s*Category\\s*(.*?)\\s*Residence Code\\s*(.*?)\\s*Date Reported\\s*(.*?)\\s*(?=Address|$)', re.DOTALL)\n",
    "    entries = entry_pattern.findall(address_details_text)\n",
    "    \n",
    "#     print(\"\\nEntries found:\")\n",
    "#     for entry in entries:\n",
    "#         print(entry)\n",
    "    \n",
    "    for entry in entries:\n",
    "        entry_dict = {\n",
    "            'Address': entry[0].strip(),\n",
    "            'Category': entry[1].strip(),\n",
    "            'Residence Code': entry[2].strip(),\n",
    "            'Date Reported': entry[3].strip()\n",
    "        }\n",
    "        address_details_list.append(entry_dict)\n",
    "    \n",
    "#     print(\"\\nFinal output:\")\n",
    "    print(address_details_list)\n",
    "else:\n",
    "    print(\"ADDRESS DETAILS section not found.\")"
   ]
  },
  {
   "cell_type": "code",
   "execution_count": 8,
   "id": "68003c70",
   "metadata": {},
   "outputs": [
    {
     "name": "stdout",
     "output_type": "stream",
     "text": [
      "CONTACT DETAILS section not found.\n"
     ]
    }
   ],
   "source": [
    "# Extract the CONTACT DETAILS section\n",
    "contact_details_pattern = re.compile(r'CONTACT DETAILS\\s*(.*?)\\s*(EMAIL DETAILS)', re.DOTALL)\n",
    "contact_details_match = contact_details_pattern.search(base_text)\n",
    "\n",
    "contact_details_list = []\n",
    "\n",
    "if contact_details_match:\n",
    "    contact_details_text = contact_details_match.group(1).strip()\n",
    "    \n",
    "    # Find all entries based on the structure of the details\n",
    "    entry_pattern = re.compile(\n",
    "        r'Telephone Number Type\\s*(.*?)\\s*'\n",
    "        r'Telephone Number\\s*(.*?)\\s*'\n",
    "        r'Telephone Extension\\s*(--|[\\d]*)', re.DOTALL)\n",
    "    \n",
    "    entries = entry_pattern.findall(contact_details_text)\n",
    "    \n",
    "    for entry in entries:\n",
    "        entry_dict = {\n",
    "            'Telephone Number Type': entry[0].strip(),\n",
    "            'Telephone Number': entry[1].strip(),\n",
    "            'Telephone Extension': entry[2].strip()\n",
    "        }\n",
    "        contact_details_list.append(entry_dict)\n",
    "    \n",
    "    print(\"Final output:\")\n",
    "    print(contact_details_list)\n",
    "else:\n",
    "    print(\"CONTACT DETAILS section not found.\")"
   ]
  },
  {
   "cell_type": "code",
   "execution_count": 9,
   "id": "0a6e2b23",
   "metadata": {},
   "outputs": [
    {
     "name": "stdout",
     "output_type": "stream",
     "text": [
      "EMAIL DETAILS section not found.\n"
     ]
    }
   ],
   "source": [
    "# Extract the EMAIL DETAILS section\n",
    "email_details_pattern = re.compile(r'EMAIL DETAILS\\s*(.*?)\\s*(EMPLOYMENT DETAILS)', re.DOTALL)\n",
    "email_details_match = email_details_pattern.search(base_text)\n",
    "\n",
    "email_details_list = []\n",
    "\n",
    "if email_details_match:\n",
    "    email_details_text = email_details_match.group(1).strip()\n",
    "    entries = email_details_text.split('\\n\\n')\n",
    "    \n",
    "    for entry in entries:\n",
    "        lines = entry.split('\\n')\n",
    "        entry_dict = {}\n",
    "        \n",
    "        for i in range(0, len(lines), 2):\n",
    "            if (i+1) < len(lines):\n",
    "                key = lines[i].strip()\n",
    "                value = lines[i+1].strip()\n",
    "                entry_dict[key] = value\n",
    "        \n",
    "        email_details_list.append(entry_dict)\n",
    "    \n",
    "    print(email_details_list)\n",
    "else:\n",
    "    print(\"EMAIL DETAILS section not found.\")"
   ]
  },
  {
   "cell_type": "code",
   "execution_count": 10,
   "id": "47d6a459",
   "metadata": {},
   "outputs": [
    {
     "name": "stdout",
     "output_type": "stream",
     "text": [
      "EMPLOYMENT DETAILS section not found.\n"
     ]
    }
   ],
   "source": [
    "# Extract the EMPLOYMENT DETAILS section\n",
    "employment_details_pattern = re.compile(r'EMPLOYMENT DETAILS\\s*(.*?)\\s*(ALL ACCOUNTS)', re.DOTALL)\n",
    "employment_details_match = employment_details_pattern.search(cleaned_text)\n",
    "\n",
    "employment_details_list = []\n",
    "\n",
    "if employment_details_match:\n",
    "    employment_details_text = employment_details_match.group(1).strip()\n",
    "    \n",
    "    # Find all key-value pairs in the employment details section\n",
    "    entry_pattern = re.compile(\n",
    "        r'(\\w[\\w\\s\\/]*?)\\n(.*?)\\n', re.DOTALL)\n",
    "    \n",
    "    entries = entry_pattern.findall(employment_details_text)\n",
    "    \n",
    "    # Create a dictionary for each entry and append to the list\n",
    "    for entry in entries:\n",
    "        entry_dict = {\n",
    "            'Key': entry[0].strip(),\n",
    "            'Value': entry[1].strip()\n",
    "        }\n",
    "        employment_details_list.append(entry_dict)\n",
    "    \n",
    "    print(employment_details_list)\n",
    "else:\n",
    "    print(\"EMPLOYMENT DETAILS section not found.\")"
   ]
  },
  {
   "cell_type": "code",
   "execution_count": 11,
   "id": "a05bc115",
   "metadata": {},
   "outputs": [
    {
     "name": "stdout",
     "output_type": "stream",
     "text": [
      "ALL ACCOUNTS section not found.\n"
     ]
    }
   ],
   "source": [
    "# Extract the ALL ACCOUNTS section\n",
    "account_details_pattern = re.compile(r'ALL ACCOUNTS\\s*(.*?)\\s*(ENQUIRY DETAILS)', re.DOTALL)\n",
    "account_details_match = account_details_pattern.search(cleaned_text)\n",
    "\n",
    "if account_details_match:\n",
    "    account_details_text = account_details_match.group(1).strip()\n",
    "\n",
    "    # Replace key headers with 'New Account'\n",
    "    replaced_text = re.sub(\n",
    "        r'Member Name\\s+Account Type\\s+Account Number\\s+Ownership',\n",
    "        'New Account',\n",
    "        account_details_text\n",
    "    )\n",
    "\n",
    "    # Split the text by 'New Account'\n",
    "    account_blocks = replaced_text.split('New Account')[1:]  # Skip the first split part as it's empty\n",
    "\n",
    "    # Columns of interest\n",
    "    columns_of_interest = [\n",
    "        'Credit Limit', 'High Credit', 'Current Balance', 'Cash Limit',\n",
    "        'Amount Overdue', 'Rate of Interest', 'Repayment Tenure', 'EMI Amount',\n",
    "        'Payment Frequency', 'Actual Payment Amount', 'Date Opened / Disbursed',\n",
    "        'Date Closed', 'Date of Last Payment', 'Date Reported And Certified',\n",
    "        'Value of Collateral', 'Type of Collateral', 'Suit - Filed / Willful Default',\n",
    "        'Credit Facility Status', 'Written-off Amount (Total)', 'Written-off Amount (Principal)',\n",
    "        'Settlement Amount', 'Payment Start Date', 'Payment End Date'\n",
    "    ]\n",
    "\n",
    "    account_details_list = []\n",
    "\n",
    "    for block in account_blocks:\n",
    "        lines = block.strip().split('\\n')\n",
    "        \n",
    "        if len(lines) < 5:\n",
    "            continue\n",
    "        \n",
    "        # Extract key details\n",
    "        account_dict = {\n",
    "            'Member Name': lines[0].strip(),\n",
    "            'Account Type': lines[1].strip(),\n",
    "            'Account Number': lines[2].strip(),\n",
    "            'Ownership': lines[3].strip(),\n",
    "        }\n",
    "\n",
    "        # Extract account details\n",
    "        details_dict = {}\n",
    "        current_key = None\n",
    "        for line in lines[4:]:\n",
    "            line = line.strip()\n",
    "            if line in columns_of_interest:\n",
    "                current_key = line\n",
    "                details_dict[current_key] = ''\n",
    "            elif current_key:\n",
    "                details_dict[current_key] = line\n",
    "                current_key = None\n",
    "\n",
    "        # Combine account details with details_dict\n",
    "        account_dict.update(details_dict)\n",
    "        account_details_list.append(account_dict)\n",
    "\n",
    "    # Convert the list of dictionaries to a DataFrame\n",
    "    account_details_df = pd.DataFrame(account_details_list)\n",
    "\n",
    "    # Display the DataFrame\n",
    "    print(\"Account Details DataFrame:\")\n",
    "    print(account_details_df)\n",
    "else:\n",
    "    print(\"ALL ACCOUNTS section not found.\")"
   ]
  },
  {
   "cell_type": "code",
   "execution_count": 12,
   "id": "88d9c451",
   "metadata": {},
   "outputs": [
    {
     "name": "stdout",
     "output_type": "stream",
     "text": [
      "Personal Details DataFrame:\n",
      "Empty DataFrame\n",
      "Columns: []\n",
      "Index: []\n",
      "--------------\n",
      "Identification Details DataFrame:\n",
      "Empty DataFrame\n",
      "Columns: []\n",
      "Index: []\n",
      "--------------\n",
      "Address Details DataFrame:\n",
      "Empty DataFrame\n",
      "Columns: []\n",
      "Index: []\n",
      "--------------\n",
      "Contact Details DataFrame:\n",
      "Empty DataFrame\n",
      "Columns: []\n",
      "Index: []\n",
      "--------------\n",
      "Email Details DataFrame:\n",
      "Empty DataFrame\n",
      "Columns: []\n",
      "Index: []\n",
      "--------------\n",
      "Employment Details DataFrame:\n",
      "Empty DataFrame\n",
      "Columns: []\n",
      "Index: []\n",
      "--------------\n",
      "Account Details DataFrame:\n"
     ]
    },
    {
     "ename": "NameError",
     "evalue": "name 'account_details_df' is not defined",
     "output_type": "error",
     "traceback": [
      "\u001b[1;31m---------------------------------------------------------------------------\u001b[0m",
      "\u001b[1;31mNameError\u001b[0m                                 Traceback (most recent call last)",
      "Cell \u001b[1;32mIn[12], line 36\u001b[0m\n\u001b[0;32m     34\u001b[0m \u001b[38;5;28mprint\u001b[39m(\u001b[38;5;124m'\u001b[39m\u001b[38;5;124m--------------\u001b[39m\u001b[38;5;124m'\u001b[39m)\n\u001b[0;32m     35\u001b[0m \u001b[38;5;28mprint\u001b[39m(\u001b[38;5;124m\"\u001b[39m\u001b[38;5;124mAccount Details DataFrame:\u001b[39m\u001b[38;5;124m\"\u001b[39m)\n\u001b[1;32m---> 36\u001b[0m \u001b[38;5;28mprint\u001b[39m(account_details_df)\n",
      "\u001b[1;31mNameError\u001b[0m: name 'account_details_df' is not defined"
     ]
    }
   ],
   "source": [
    "# Convert the lists of dictionaries to DataFrames\n",
    "personal_details_df = pd.DataFrame(personal_details_list)\n",
    "identification_details_df = pd.DataFrame(identification_details_list)\n",
    "address_details_df = pd.DataFrame(address_details_list)\n",
    "contact_details_df = pd.DataFrame(contact_details_list)\n",
    "email_details_df = pd.DataFrame(email_details_list)\n",
    "employment_details_df = pd.DataFrame(employment_details_list)\n",
    "\n",
    "# Display the DataFrames\n",
    "\n",
    "print(\"Personal Details DataFrame:\")\n",
    "print(personal_details_df)\n",
    "\n",
    "print('--------------')\n",
    "print(\"Identification Details DataFrame:\")\n",
    "print(identification_details_df)\n",
    "\n",
    "print('--------------')\n",
    "print(\"Address Details DataFrame:\")\n",
    "print(address_details_df)\n",
    "\n",
    "print('--------------')\n",
    "print(\"Contact Details DataFrame:\")\n",
    "print(contact_details_df)\n",
    "\n",
    "print('--------------')\n",
    "print(\"Email Details DataFrame:\")\n",
    "print(email_details_df)\n",
    "\n",
    "print('--------------')\n",
    "print(\"Employment Details DataFrame:\")\n",
    "print(employment_details_df)\n",
    "\n",
    "print('--------------')\n",
    "print(\"Account Details DataFrame:\")\n",
    "print(account_details_df)"
   ]
  },
  {
   "cell_type": "code",
   "execution_count": 13,
   "id": "7cfae69b",
   "metadata": {},
   "outputs": [
    {
     "ename": "NameError",
     "evalue": "name 'account_details_df' is not defined",
     "output_type": "error",
     "traceback": [
      "\u001b[1;31m---------------------------------------------------------------------------\u001b[0m",
      "\u001b[1;31mNameError\u001b[0m                                 Traceback (most recent call last)",
      "Cell \u001b[1;32mIn[13], line 13\u001b[0m\n\u001b[0;32m     11\u001b[0m     email_details_df\u001b[38;5;241m.\u001b[39mto_excel(writer, sheet_name\u001b[38;5;241m=\u001b[39m\u001b[38;5;124m'\u001b[39m\u001b[38;5;124mEmail Details\u001b[39m\u001b[38;5;124m'\u001b[39m, index\u001b[38;5;241m=\u001b[39m\u001b[38;5;28;01mFalse\u001b[39;00m)\n\u001b[0;32m     12\u001b[0m     employment_details_df\u001b[38;5;241m.\u001b[39mto_excel(writer, sheet_name\u001b[38;5;241m=\u001b[39m\u001b[38;5;124m'\u001b[39m\u001b[38;5;124mEmployment Details\u001b[39m\u001b[38;5;124m'\u001b[39m, index\u001b[38;5;241m=\u001b[39m\u001b[38;5;28;01mFalse\u001b[39;00m)\n\u001b[1;32m---> 13\u001b[0m     account_details_df\u001b[38;5;241m.\u001b[39mto_excel(writer, sheet_name\u001b[38;5;241m=\u001b[39m\u001b[38;5;124m'\u001b[39m\u001b[38;5;124mAccount Details\u001b[39m\u001b[38;5;124m'\u001b[39m, index\u001b[38;5;241m=\u001b[39m\u001b[38;5;28;01mFalse\u001b[39;00m)\n\u001b[0;32m     15\u001b[0m \u001b[38;5;28mprint\u001b[39m(\u001b[38;5;124m\"\u001b[39m\u001b[38;5;124mExcel file saved successfully!\u001b[39m\u001b[38;5;124m\"\u001b[39m)\n",
      "\u001b[1;31mNameError\u001b[0m: name 'account_details_df' is not defined"
     ]
    }
   ],
   "source": [
    "# Define the file path for the Excel file\n",
    "excel_file = \"Cibil_Excel.xlsx\"\n",
    "\n",
    "# Create an ExcelWriter object\n",
    "with pd.ExcelWriter(excel_file, engine='openpyxl') as writer:\n",
    "    # Write each DataFrame to a different sheet\n",
    "    personal_details_df.to_excel(writer, sheet_name='Personal Details', index=False)\n",
    "    identification_details_df.to_excel(writer, sheet_name='Identification Details', index=False)\n",
    "    address_details_df.to_excel(writer, sheet_name='Address Details', index=False)\n",
    "    contact_details_df.to_excel(writer, sheet_name='Contact Details', index=False)\n",
    "    email_details_df.to_excel(writer, sheet_name='Email Details', index=False)\n",
    "    employment_details_df.to_excel(writer, sheet_name='Employment Details', index=False)\n",
    "    account_details_df.to_excel(writer, sheet_name='Account Details', index=False)\n",
    "\n",
    "print(\"Excel file saved successfully!\")"
   ]
  },
  {
   "cell_type": "code",
   "execution_count": null,
   "id": "4fc07c0a",
   "metadata": {},
   "outputs": [],
   "source": []
  }
 ],
 "metadata": {
  "kernelspec": {
   "display_name": "Python 3 (ipykernel)",
   "language": "python",
   "name": "python3"
  },
  "language_info": {
   "codemirror_mode": {
    "name": "ipython",
    "version": 3
   },
   "file_extension": ".py",
   "mimetype": "text/x-python",
   "name": "python",
   "nbconvert_exporter": "python",
   "pygments_lexer": "ipython3",
   "version": "3.11.5"
  }
 },
 "nbformat": 4,
 "nbformat_minor": 5
}
